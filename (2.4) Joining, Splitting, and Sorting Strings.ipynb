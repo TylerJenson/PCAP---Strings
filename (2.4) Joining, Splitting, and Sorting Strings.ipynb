{
 "cells": [
  {
   "cell_type": "code",
   "execution_count": 1,
   "id": "492c99eb",
   "metadata": {},
   "outputs": [
    {
     "data": {
      "text/plain": [
       "'This is a spectacular place to be'"
      ]
     },
     "execution_count": 1,
     "metadata": {},
     "output_type": "execute_result"
    }
   ],
   "source": [
    "# join() method\n",
    "    #  returns a string by joining all the elements of an iterable (list, string, tuple), separated by the given separator.\n",
    "\n",
    "# example, we want to combine the 3 strings below, into 1 string\n",
    "\n",
    "'This is'\n",
    "'a spectacular'\n",
    "'place to be'\n",
    "\n",
    "# here's what you need to do\n",
    "\n",
    "' '.join(['This is','a spectacular','place to be'])\n",
    "\n",
    "# join() method set up\n",
    "#   'separator'.join([arguments, in, a, list])"
   ]
  },
  {
   "cell_type": "code",
   "execution_count": 2,
   "id": "744f0d43",
   "metadata": {},
   "outputs": [],
   "source": [
    "# join() method, example explanation\n",
    "\n",
    "# we need to start with the separator between the strings, in this case ' ', as space\n",
    "# .join()\n",
    "# with the parenthesis, the argument is a LIST of all strings"
   ]
  },
  {
   "cell_type": "code",
   "execution_count": 3,
   "id": "a1e85a4d",
   "metadata": {},
   "outputs": [
    {
     "data": {
      "text/plain": [
       "['how', 'many', 'strings', 'will', 'you', 'see?']"
      ]
     },
     "execution_count": 3,
     "metadata": {},
     "output_type": "execute_result"
    }
   ],
   "source": [
    "# split() function\n",
    "    # splits a string into a list. You can specify the separator, default separator is any whitespace ('space', \\n, \\t)\n",
    "    \n",
    "'how many\\tstrings\\nwill you see?'.split()"
   ]
  },
  {
   "cell_type": "code",
   "execution_count": 4,
   "id": "3fe79708",
   "metadata": {},
   "outputs": [
    {
     "name": "stdout",
     "output_type": "stream",
     "text": [
      "['Adam', 'Barbara', 'Kate', 'Oscar']\n"
     ]
    }
   ],
   "source": [
    "# sorted() function\n",
    "    # creates a sorted COPY\n",
    "    # returns a sorted list of the specified iterable object\n",
    "    # DOESN'T change the original list\n",
    "        # a new list is created\n",
    "\n",
    "names = ['Adam','Kate','Barbara','Oscar']\n",
    "\n",
    "names_sorted = sorted(names)\n",
    "\n",
    "print(names_sorted)"
   ]
  },
  {
   "cell_type": "code",
   "execution_count": 5,
   "id": "3fb4f35f",
   "metadata": {},
   "outputs": [
    {
     "name": "stdout",
     "output_type": "stream",
     "text": [
      "['Adam', 'Barbara', 'Kate', 'Oscar']\n"
     ]
    }
   ],
   "source": [
    "# sort() function\n",
    "    # sorts the original list\n",
    "        # no new list is created\n",
    "        \n",
    "names = ['Adam','Kate','Barbara','Oscar']\n",
    "names.sort()\n",
    "print(names)"
   ]
  },
  {
   "cell_type": "code",
   "execution_count": null,
   "id": "0c3307ad",
   "metadata": {},
   "outputs": [],
   "source": []
  }
 ],
 "metadata": {
  "kernelspec": {
   "display_name": "Python 3 (ipykernel)",
   "language": "python",
   "name": "python3"
  },
  "language_info": {
   "codemirror_mode": {
    "name": "ipython",
    "version": 3
   },
   "file_extension": ".py",
   "mimetype": "text/x-python",
   "name": "python",
   "nbconvert_exporter": "python",
   "pygments_lexer": "ipython3",
   "version": "3.10.9"
  }
 },
 "nbformat": 4,
 "nbformat_minor": 5
}
