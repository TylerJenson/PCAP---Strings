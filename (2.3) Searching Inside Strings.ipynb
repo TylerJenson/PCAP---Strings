{
 "cells": [
  {
   "cell_type": "code",
   "execution_count": 1,
   "id": "fe854b76",
   "metadata": {},
   "outputs": [
    {
     "data": {
      "text/plain": [
       "14"
      ]
     },
     "execution_count": 1,
     "metadata": {},
     "output_type": "execute_result"
    }
   ],
   "source": [
    "# index() method\n",
    "    # reveals the first index of the given character\n",
    "    # even if there are more characters of that given character\n",
    "    # can be used for various literals (strings, intervals, floats)\n",
    "    \n",
    "'MinnesotaTimberwolves'.index('r')\n",
    "    # index 14\n",
    "    # Review --> indexing starts at 0"
   ]
  },
  {
   "cell_type": "code",
   "execution_count": 2,
   "id": "4992e40b",
   "metadata": {},
   "outputs": [
    {
     "name": "stdout",
     "output_type": "stream",
     "text": [
      "14\n",
      "14\n"
     ]
    }
   ],
   "source": [
    "# find() method\n",
    "    # similar to index() method\n",
    "        # finds first occurence of given character\n",
    "    # differences\n",
    "        # safer to use than index()\n",
    "            # if character is not found, the output would be  '-1'\n",
    "                # whereas index() would produce an error\n",
    "        # only works with strings\n",
    "\n",
    "my_text = 'The Minnesota Golden Gophers'\n",
    "\n",
    "print(my_text.index('Go'))\n",
    "print(my_text.find('Go'))\n",
    "\n",
    "# in this case both methods, behave in the same way"
   ]
  },
  {
   "cell_type": "code",
   "execution_count": 6,
   "id": "42ac8ff0",
   "metadata": {},
   "outputs": [
    {
     "name": "stdout",
     "output_type": "stream",
     "text": [
      "-1\n"
     ]
    }
   ],
   "source": [
    "# find() & index() function cont.,\n",
    "\n",
    "# searching for something that is not there\n",
    "\n",
    "my_text = 'The Minnesota Golden Gophers'\n",
    "\n",
    "#print(my_text.index('Timberwolves'))\n",
    "print(my_text.find('Timberwolves'))\n",
    "\n",
    "# both produce ValueError\n",
    "\n",
    "# however, if you comment out the index() code, you get -1 as a result of the find()"
   ]
  },
  {
   "cell_type": "code",
   "execution_count": 11,
   "id": "f09ec7c4",
   "metadata": {},
   "outputs": [
    {
     "name": "stdout",
     "output_type": "stream",
     "text": [
      "-1\n"
     ]
    }
   ],
   "source": [
    "# find()\n",
    "    # has 2 & 3 parameter settings to specify your search\n",
    "    # find('string', starting index, ending index)\n",
    "        # REVIEW: starting index is INCLUSIVE, ending index is EXCLUSIVE\n",
    "\n",
    "my_text = 'The Minnesota Golden Gophers'\n",
    "\n",
    "print(my_text.find('Min', 10))\n",
    "\n",
    "# even though 'Min' is in the string, since we started at index 10, it's showing that it could not be found"
   ]
  },
  {
   "cell_type": "code",
   "execution_count": 12,
   "id": "477a5c15",
   "metadata": {},
   "outputs": [
    {
     "name": "stdout",
     "output_type": "stream",
     "text": [
      "-1\n"
     ]
    }
   ],
   "source": [
    "my_text = 'The Minnesota Golden Gophers'\n",
    "\n",
    "print(my_text.find('Min', 10, 15))"
   ]
  },
  {
   "cell_type": "code",
   "execution_count": 15,
   "id": "4ed9b0c6",
   "metadata": {},
   "outputs": [
    {
     "name": "stdout",
     "output_type": "stream",
     "text": [
      "14\n",
      "21\n"
     ]
    }
   ],
   "source": [
    "# rfind()\n",
    "    # same as find(), but starts at the end of the string\n",
    "    # has the same 3 parameter options\n",
    "    \n",
    "my_text = 'The Minnesota Golden Gophers'\n",
    "\n",
    "print(my_text.find('Go'))\n",
    "print(my_text.rfind('Go'))\n",
    "\n",
    "# you can see that the indexes are different"
   ]
  },
  {
   "cell_type": "code",
   "execution_count": 16,
   "id": "dff7bdd6",
   "metadata": {},
   "outputs": [
    {
     "name": "stdout",
     "output_type": "stream",
     "text": [
      "0\n",
      "10\n",
      "5\n",
      "10\n",
      "-1\n",
      "-1\n"
     ]
    }
   ],
   "source": [
    "# find() & rfind() example\n",
    "\n",
    "print('work work work'.find('work'))\n",
    "print('work work work'.rfind('work'))\n",
    "print('work work work'.find('work', 2))\n",
    "print('work work work'.rfind('work', 2))\n",
    "print('work work work'.find('work', 2, 5))\n",
    "print('work work work'.rfind('work', 2, 5))\n"
   ]
  },
  {
   "cell_type": "code",
   "execution_count": 1,
   "id": "dce2b56b",
   "metadata": {},
   "outputs": [
    {
     "name": "stdout",
     "output_type": "stream",
     "text": [
      "True\n",
      "True\n"
     ]
    }
   ],
   "source": [
    "# isalnum() method\n",
    "    # returns True if all the characters are alphanumeric, meaning alphabet letter (a-z) and numbers (0-9) \n",
    "    # OR if there are just alphabet characters (quiz question)\n",
    "\n",
    "print('tyler123'.isalnum())\n",
    "print('tyler'.isalnum())"
   ]
  },
  {
   "cell_type": "code",
   "execution_count": 21,
   "id": "6116a6f0",
   "metadata": {},
   "outputs": [
    {
     "data": {
      "text/plain": [
       "False"
      ]
     },
     "execution_count": 21,
     "metadata": {},
     "output_type": "execute_result"
    }
   ],
   "source": [
    "'tyler@123'.isalnum()"
   ]
  },
  {
   "cell_type": "code",
   "execution_count": 22,
   "id": "e4c55ed9",
   "metadata": {},
   "outputs": [
    {
     "data": {
      "text/plain": [
       "True"
      ]
     },
     "execution_count": 22,
     "metadata": {},
     "output_type": "execute_result"
    }
   ],
   "source": [
    "# isalpha() method\n",
    "    #  returns True if all the characters are alphabet letters (a-z)\n",
    "    \n",
    "'tyler'.isalpha()"
   ]
  },
  {
   "cell_type": "code",
   "execution_count": 23,
   "id": "84c46457",
   "metadata": {},
   "outputs": [
    {
     "data": {
      "text/plain": [
       "False"
      ]
     },
     "execution_count": 23,
     "metadata": {},
     "output_type": "execute_result"
    }
   ],
   "source": [
    "'tyler1'.isalpha()"
   ]
  },
  {
   "cell_type": "code",
   "execution_count": 24,
   "id": "1816fb66",
   "metadata": {},
   "outputs": [
    {
     "data": {
      "text/plain": [
       "True"
      ]
     },
     "execution_count": 24,
     "metadata": {},
     "output_type": "execute_result"
    }
   ],
   "source": [
    "# isdigit() method\n",
    "    # returns True if all the characters are digits\n",
    "    \n",
    "'15648'.isdigit()"
   ]
  },
  {
   "cell_type": "code",
   "execution_count": 25,
   "id": "1c989636",
   "metadata": {},
   "outputs": [
    {
     "data": {
      "text/plain": [
       "False"
      ]
     },
     "execution_count": 25,
     "metadata": {},
     "output_type": "execute_result"
    }
   ],
   "source": [
    "'333tyler'.isdigit()"
   ]
  },
  {
   "cell_type": "code",
   "execution_count": 26,
   "id": "874ceec1",
   "metadata": {},
   "outputs": [
    {
     "data": {
      "text/plain": [
       "False"
      ]
     },
     "execution_count": 26,
     "metadata": {},
     "output_type": "execute_result"
    }
   ],
   "source": [
    "# OTHER 'is' methods\n",
    "\n",
    "# islower() , isupper() , isspace()\n",
    "\n",
    "# islower()\n",
    "    #  returns True if all the characters are in lower case\n",
    "\n",
    "#isupper()\n",
    "    #  returns True if all the characters are in upper case\n",
    "    \n",
    "#isspace()\n",
    "    #  returns True if all the characters in a string are whitespaces\n",
    "    # whitespace characters are 'space' and \\n\n",
    "    \n",
    "'TYLER'.isspace()"
   ]
  },
  {
   "cell_type": "code",
   "execution_count": 27,
   "id": "91b7716e",
   "metadata": {},
   "outputs": [
    {
     "data": {
      "text/plain": [
       "False"
      ]
     },
     "execution_count": 27,
     "metadata": {},
     "output_type": "execute_result"
    }
   ],
   "source": [
    "'t y l '.isspace()"
   ]
  },
  {
   "cell_type": "code",
   "execution_count": 28,
   "id": "ebf9f13d",
   "metadata": {},
   "outputs": [
    {
     "data": {
      "text/plain": [
       "True"
      ]
     },
     "execution_count": 28,
     "metadata": {},
     "output_type": "execute_result"
    }
   ],
   "source": [
    "'      '.isspace()"
   ]
  },
  {
   "cell_type": "code",
   "execution_count": 29,
   "id": "9ae49707",
   "metadata": {},
   "outputs": [
    {
     "data": {
      "text/plain": [
       "True"
      ]
     },
     "execution_count": 29,
     "metadata": {},
     "output_type": "execute_result"
    }
   ],
   "source": [
    "'\\n\\n\\n\\n'.isspace()"
   ]
  },
  {
   "cell_type": "code",
   "execution_count": null,
   "id": "bd2e7bed",
   "metadata": {},
   "outputs": [],
   "source": []
  }
 ],
 "metadata": {
  "kernelspec": {
   "display_name": "Python 3 (ipykernel)",
   "language": "python",
   "name": "python3"
  },
  "language_info": {
   "codemirror_mode": {
    "name": "ipython",
    "version": 3
   },
   "file_extension": ".py",
   "mimetype": "text/x-python",
   "name": "python",
   "nbconvert_exporter": "python",
   "pygments_lexer": "ipython3",
   "version": "3.10.9"
  }
 },
 "nbformat": 4,
 "nbformat_minor": 5
}
