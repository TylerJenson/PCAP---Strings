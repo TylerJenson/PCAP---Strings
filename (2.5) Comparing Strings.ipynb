{
 "cells": [
  {
   "cell_type": "code",
   "execution_count": 1,
   "id": "db2f317f",
   "metadata": {},
   "outputs": [
    {
     "data": {
      "text/plain": [
       "'\\n==\\n!=\\n>\\n>=\\n<\\n<=\\n'"
      ]
     },
     "execution_count": 1,
     "metadata": {},
     "output_type": "execute_result"
    }
   ],
   "source": [
    "# operators & strings\n",
    "    # python allows you to use the same operators with strings, as you know from numbers\n",
    "\"\"\"\n",
    "==\n",
    "!=\n",
    ">\n",
    ">=\n",
    "<\n",
    "<=\n",
    "\"\"\""
   ]
  },
  {
   "cell_type": "code",
   "execution_count": 2,
   "id": "025fcf84",
   "metadata": {},
   "outputs": [
    {
     "data": {
      "text/plain": [
       "True"
      ]
     },
     "execution_count": 2,
     "metadata": {},
     "output_type": "execute_result"
    }
   ],
   "source": [
    "# examples; ==  &  !=\n",
    "\n",
    "'Python' == 'Python'"
   ]
  },
  {
   "cell_type": "code",
   "execution_count": 1,
   "id": "d75356e0",
   "metadata": {},
   "outputs": [
    {
     "data": {
      "text/plain": [
       "False"
      ]
     },
     "execution_count": 1,
     "metadata": {},
     "output_type": "execute_result"
    }
   ],
   "source": [
    "'Python' == 'python'"
   ]
  },
  {
   "cell_type": "code",
   "execution_count": 2,
   "id": "c546b534",
   "metadata": {},
   "outputs": [
    {
     "data": {
      "text/plain": [
       "False"
      ]
     },
     "execution_count": 2,
     "metadata": {},
     "output_type": "execute_result"
    }
   ],
   "source": [
    "'Python' == 'nohtyP' # Python backwards\n",
    "\n",
    "# even though all code points added up are equal... Python has a rule\n",
    "    # it goes index - index until it finds a difference, and that's when True / False is determined by that specific index\n",
    "\n",
    "    # in this case, it's index 0\n",
    "        # 'P' & 'n' code points are not equal"
   ]
  },
  {
   "cell_type": "code",
   "execution_count": 4,
   "id": "e6d70b9e",
   "metadata": {},
   "outputs": [
    {
     "data": {
      "text/plain": [
       "True"
      ]
     },
     "execution_count": 4,
     "metadata": {},
     "output_type": "execute_result"
    }
   ],
   "source": [
    "'Python' != 'python'"
   ]
  },
  {
   "cell_type": "code",
   "execution_count": 5,
   "id": "26544095",
   "metadata": {},
   "outputs": [
    {
     "data": {
      "text/plain": [
       "False"
      ]
     },
     "execution_count": 5,
     "metadata": {},
     "output_type": "execute_result"
    }
   ],
   "source": [
    "'Python' == 'Pytho'"
   ]
  },
  {
   "cell_type": "code",
   "execution_count": 6,
   "id": "d269f4a6",
   "metadata": {},
   "outputs": [],
   "source": [
    "#  ==  , !=  operators with strings\n",
    "\n",
    "# the strings have to be identical in order to result to 'True' with =="
   ]
  },
  {
   "cell_type": "code",
   "execution_count": 7,
   "id": "a6648b52",
   "metadata": {},
   "outputs": [
    {
     "data": {
      "text/plain": [
       "True"
      ]
     },
     "execution_count": 7,
     "metadata": {},
     "output_type": "execute_result"
    }
   ],
   "source": [
    "# greater than & less than operators (>,>=,<,<=)\n",
    "\n",
    "# python evaluates index by index between each string, using the ASCII code point numerical value for each character\n",
    "# evaluation soley takes place once a differing character is encountered; that is the point where the output is determined to\n",
    "    # be 'True' or 'False'\n",
    "# in the case below, it stops at 'p' & 'P' to evaluate the difference\n",
    "\n",
    "'I love Python' < 'I love python'\n",
    "\n",
    "# 'p' has a higher ASCII score than 'P'"
   ]
  },
  {
   "cell_type": "code",
   "execution_count": 8,
   "id": "7c7c4ce5",
   "metadata": {},
   "outputs": [
    {
     "data": {
      "text/plain": [
       "True"
      ]
     },
     "execution_count": 8,
     "metadata": {},
     "output_type": "execute_result"
    }
   ],
   "source": [
    "# greater than & less than operators (>,>=,<,<=), continued\n",
    "\n",
    "'Pythonist' > 'Python'\n",
    "\n",
    "# this rule only applies if the shorter string, is identical with the beginning of the longer string"
   ]
  },
  {
   "cell_type": "code",
   "execution_count": 9,
   "id": "6ae3e803",
   "metadata": {},
   "outputs": [
    {
     "data": {
      "text/plain": [
       "False"
      ]
     },
     "execution_count": 9,
     "metadata": {},
     "output_type": "execute_result"
    }
   ],
   "source": [
    "# greater than & less than operators (>,>=,<,<=), continued\n",
    "    # similar to the example above, \n",
    "    # the length of the string doesn't matter\n",
    "        # it's the values of the FIRST DIFFERING CHARACTERS\n",
    "        \n",
    "'Pythonist' > 'Z'"
   ]
  },
  {
   "cell_type": "code",
   "execution_count": 10,
   "id": "1e59a337",
   "metadata": {},
   "outputs": [
    {
     "data": {
      "text/plain": [
       "False"
      ]
     },
     "execution_count": 10,
     "metadata": {},
     "output_type": "execute_result"
    }
   ],
   "source": [
    "# greater than & less than operators (>,>=,<,<=), continued\n",
    "    # remember; evaluated index by index\n",
    "    # REVIEW --> python evaluates at the first differing character of both strings\n",
    "        # in this case, '2' & '8', 8 is greater than 2, so it's False\n",
    "    \n",
    "'20' > '8'"
   ]
  },
  {
   "cell_type": "code",
   "execution_count": 13,
   "id": "d3b31d25",
   "metadata": {},
   "outputs": [
    {
     "data": {
      "text/plain": [
       "False"
      ]
     },
     "execution_count": 13,
     "metadata": {},
     "output_type": "execute_result"
    }
   ],
   "source": [
    "# comparing a 'string' with a 'number'\n",
    "\n",
    "    # can only use these operators: ==  ,  !=\n",
    "        # if you use any other operator, you will get a 'type' error\n",
    "    # string in python can never be equal to a number\n",
    "\n",
    "10 == '10'"
   ]
  },
  {
   "cell_type": "code",
   "execution_count": 14,
   "id": "515ada9d",
   "metadata": {},
   "outputs": [
    {
     "data": {
      "text/plain": [
       "True"
      ]
     },
     "execution_count": 14,
     "metadata": {},
     "output_type": "execute_result"
    }
   ],
   "source": [
    "10 != '10'"
   ]
  },
  {
   "cell_type": "code",
   "execution_count": 15,
   "id": "4dbf3ffc",
   "metadata": {},
   "outputs": [
    {
     "ename": "TypeError",
     "evalue": "'>' not supported between instances of 'int' and 'str'",
     "output_type": "error",
     "traceback": [
      "\u001b[1;31m---------------------------------------------------------------------------\u001b[0m",
      "\u001b[1;31mTypeError\u001b[0m                                 Traceback (most recent call last)",
      "Cell \u001b[1;32mIn[15], line 1\u001b[0m\n\u001b[1;32m----> 1\u001b[0m \u001b[38;5;241;43m10\u001b[39;49m\u001b[43m \u001b[49m\u001b[38;5;241;43m>\u001b[39;49m\u001b[43m \u001b[49m\u001b[38;5;124;43m'\u001b[39;49m\u001b[38;5;124;43m10\u001b[39;49m\u001b[38;5;124;43m'\u001b[39;49m\n",
      "\u001b[1;31mTypeError\u001b[0m: '>' not supported between instances of 'int' and 'str'"
     ]
    }
   ],
   "source": [
    "10 > '10'"
   ]
  },
  {
   "cell_type": "code",
   "execution_count": null,
   "id": "8b8783f2",
   "metadata": {},
   "outputs": [],
   "source": []
  }
 ],
 "metadata": {
  "kernelspec": {
   "display_name": "Python 3 (ipykernel)",
   "language": "python",
   "name": "python3"
  },
  "language_info": {
   "codemirror_mode": {
    "name": "ipython",
    "version": 3
   },
   "file_extension": ".py",
   "mimetype": "text/x-python",
   "name": "python",
   "nbconvert_exporter": "python",
   "pygments_lexer": "ipython3",
   "version": "3.10.9"
  }
 },
 "nbformat": 4,
 "nbformat_minor": 5
}
