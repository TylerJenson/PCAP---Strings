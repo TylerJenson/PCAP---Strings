{
 "cells": [
  {
   "cell_type": "code",
   "execution_count": 1,
   "id": "befa2331",
   "metadata": {},
   "outputs": [],
   "source": [
    "# Python Strings\n",
    "    # immutable sequences\n",
    "    # this means, once you create a string, you can't change it\n",
    "        # you can only replace it with a new one"
   ]
  },
  {
   "cell_type": "code",
   "execution_count": 2,
   "id": "3a6ded7c",
   "metadata": {},
   "outputs": [
    {
     "data": {
      "text/plain": [
       "12"
      ]
     },
     "execution_count": 2,
     "metadata": {},
     "output_type": "execute_result"
    }
   ],
   "source": [
    "# len() function\n",
    "\n",
    "len('Tyler Jenson')\n",
    "    # the length includes the 'space'"
   ]
  },
  {
   "cell_type": "code",
   "execution_count": 3,
   "id": "ca2b3bb1",
   "metadata": {},
   "outputs": [
    {
     "data": {
      "text/plain": [
       "0"
      ]
     },
     "execution_count": 3,
     "metadata": {},
     "output_type": "execute_result"
    }
   ],
   "source": [
    "# len() function, continued\n",
    "len('') #no space"
   ]
  },
  {
   "cell_type": "code",
   "execution_count": 4,
   "id": "8af856ab",
   "metadata": {},
   "outputs": [
    {
     "name": "stdout",
     "output_type": "stream",
     "text": [
      "y\n"
     ]
    }
   ],
   "source": [
    "# indexing strings\n",
    "    # remember, indexes start at 0\n",
    "print('Tyler Jenson'[1])"
   ]
  },
  {
   "cell_type": "code",
   "execution_count": 7,
   "id": "31bf94f8",
   "metadata": {},
   "outputs": [
    {
     "name": "stdout",
     "output_type": "stream",
     "text": [
      "yler Jenson\n"
     ]
    }
   ],
   "source": [
    "# slicing strings\n",
    "    # use brackets and colon [start:end]\n",
    "    # if you have indexes inputted in start and end --> start is inclusive, where end index is not included\n",
    "        # example, [1:5], index 5 is excluded\n",
    "        # however, if the end was blank, it includes the whole rest of the indices, even the 'end'\n",
    "            # example; [1:]\n",
    "\n",
    "print('Tyler Jenson'[1:])\n",
    "    # starting with index 1"
   ]
  },
  {
   "cell_type": "code",
   "execution_count": 9,
   "id": "b1455fca",
   "metadata": {},
   "outputs": [
    {
     "name": "stdout",
     "output_type": "stream",
     "text": [
      "Tyler\n"
     ]
    }
   ],
   "source": [
    "# slicing strings, continued\n",
    "\n",
    "print('Tyler Jenson'[:5])\n",
    "    # doesn't include index 5, the space in the string\n",
    "    # REMEMBER -- you start at index 0"
   ]
  },
  {
   "cell_type": "code",
   "execution_count": 10,
   "id": "c087713c",
   "metadata": {},
   "outputs": [
    {
     "name": "stdout",
     "output_type": "stream",
     "text": [
      "I'm Tyler\n"
     ]
    }
   ],
   "source": [
    "# special characters & backslash (\\)\n",
    "    # the backslash is an 'escape character' and has to be used in front of a special character\n",
    "    # escape character is not include in the string length\n",
    "    \n",
    "# example, apostrophe\n",
    "print('I\\'m Tyler')"
   ]
  },
  {
   "cell_type": "code",
   "execution_count": 14,
   "id": "bcd55496",
   "metadata": {},
   "outputs": [
    {
     "data": {
      "text/plain": [
       "97"
      ]
     },
     "execution_count": 14,
     "metadata": {},
     "output_type": "execute_result"
    }
   ],
   "source": [
    "# finding the 'code point' for a given character \n",
    "# using the ord() function\n",
    "    # can only accept a 1 character string\n",
    "\n",
    "ord('a')"
   ]
  },
  {
   "cell_type": "code",
   "execution_count": 15,
   "id": "f1f20062",
   "metadata": {},
   "outputs": [
    {
     "data": {
      "text/plain": [
       "65"
      ]
     },
     "execution_count": 15,
     "metadata": {},
     "output_type": "execute_result"
    }
   ],
   "source": [
    "ord('A')"
   ]
  },
  {
   "cell_type": "code",
   "execution_count": 16,
   "id": "5dd70b2c",
   "metadata": {},
   "outputs": [
    {
     "data": {
      "text/plain": [
       "'a'"
      ]
     },
     "execution_count": 16,
     "metadata": {},
     "output_type": "execute_result"
    }
   ],
   "source": [
    "# chr() function\n",
    "    # the opposite of the ord() function\n",
    "    # input -- number; output -- character\n",
    "    \n",
    "chr(97)"
   ]
  },
  {
   "cell_type": "code",
   "execution_count": 17,
   "id": "c66007ae",
   "metadata": {},
   "outputs": [],
   "source": [
    "# using multi-line strings\n",
    "    # need to start and end with triple quotes\n",
    "    # example, below you see that the string layout is on 2 lines\n",
    "test_string = \"\"\"baba\n",
    "boooee\"\"\""
   ]
  },
  {
   "cell_type": "code",
   "execution_count": 18,
   "id": "38b0a8e0",
   "metadata": {},
   "outputs": [
    {
     "data": {
      "text/plain": [
       "11"
      ]
     },
     "execution_count": 18,
     "metadata": {},
     "output_type": "execute_result"
    }
   ],
   "source": [
    "# using multi-line strings, with len() function\n",
    "\n",
    "#example, the string in the variable 'test_string' above looks to only have 10 characters, but Python adds \n",
    "    # an 'invisible' character due to being on multiple lines (2)\n",
    "    # this special character is called 'Line Feet' and is represented as, \\n\n",
    "        # counts as 1 character\n",
    "\n",
    "len(test_string)"
   ]
  },
  {
   "cell_type": "code",
   "execution_count": 19,
   "id": "01c58f73",
   "metadata": {},
   "outputs": [
    {
     "data": {
      "text/plain": [
       "'aaabbb'"
      ]
     },
     "execution_count": 19,
     "metadata": {},
     "output_type": "execute_result"
    }
   ],
   "source": [
    "# string concatenation (+)\n",
    "    # creates new string\n",
    "'aaa' + 'bbb'"
   ]
  },
  {
   "cell_type": "code",
   "execution_count": null,
   "id": "c817cb63",
   "metadata": {},
   "outputs": [],
   "source": [
    "# operator overloading\n",
    "    # giving extended meaning beyond their predefined operational meaning\n",
    "        # For example operator + is used to add two integers as well as join two strings and merge two lists"
   ]
  },
  {
   "cell_type": "code",
   "execution_count": 20,
   "id": "b1aa893f",
   "metadata": {},
   "outputs": [
    {
     "data": {
      "text/plain": [
       "'cccccc'"
      ]
     },
     "execution_count": 20,
     "metadata": {},
     "output_type": "execute_result"
    }
   ],
   "source": [
    "# string multiplication (*)\n",
    "\n",
    "2 * 'ccc'"
   ]
  },
  {
   "cell_type": "code",
   "execution_count": 21,
   "id": "16161e5b",
   "metadata": {},
   "outputs": [
    {
     "data": {
      "text/plain": [
       "'bbbaaa'"
      ]
     },
     "execution_count": 21,
     "metadata": {},
     "output_type": "execute_result"
    }
   ],
   "source": [
    "# string concatenation, cont\n",
    "\n",
    "# the below give the same result\n",
    "# where the order doesn't matter\n",
    "    # this is referred to as 'COMMUTATIVE'\n",
    "3 + 2 \n",
    "2 + 3\n",
    "\n",
    "# however, concatenating strings depends on the order\n",
    "    # this is referred to as 'NON COMMUTATIVE'\n",
    "'bbb' + 'aaa'"
   ]
  },
  {
   "cell_type": "code",
   "execution_count": 22,
   "id": "e6fcee41",
   "metadata": {},
   "outputs": [
    {
     "name": "stdout",
     "output_type": "stream",
     "text": [
      "T-y-l-e-r- -J-e-n-s-o-n-"
     ]
    }
   ],
   "source": [
    "# iterating strings; using for loop\n",
    "\n",
    "for char in 'Tyler Jenson':\n",
    "    print(char, end='-')"
   ]
  },
  {
   "cell_type": "code",
   "execution_count": 23,
   "id": "8fb11959",
   "metadata": {},
   "outputs": [],
   "source": [
    "#REMINDER\n",
    "# strings; immutable\n",
    "    # can't change it, can only replace with a new string"
   ]
  },
  {
   "cell_type": "code",
   "execution_count": 24,
   "id": "a2632853",
   "metadata": {},
   "outputs": [
    {
     "ename": "TypeError",
     "evalue": "'str' object doesn't support item deletion",
     "output_type": "error",
     "traceback": [
      "\u001b[1;31m---------------------------------------------------------------------------\u001b[0m",
      "\u001b[1;31mTypeError\u001b[0m                                 Traceback (most recent call last)",
      "Cell \u001b[1;32mIn[24], line 6\u001b[0m\n\u001b[0;32m      1\u001b[0m \u001b[38;5;66;03m# del operator and strings\u001b[39;00m\n\u001b[0;32m      2\u001b[0m     \u001b[38;5;66;03m# can't use\u001b[39;00m\n\u001b[0;32m      4\u001b[0m text \u001b[38;5;241m=\u001b[39m \u001b[38;5;124m'\u001b[39m\u001b[38;5;124mSTyler Jenson\u001b[39m\u001b[38;5;124m'\u001b[39m\n\u001b[1;32m----> 6\u001b[0m \u001b[38;5;28;01mdel\u001b[39;00m text[\u001b[38;5;241m0\u001b[39m]\n",
      "\u001b[1;31mTypeError\u001b[0m: 'str' object doesn't support item deletion"
     ]
    }
   ],
   "source": [
    "# del operator and strings\n",
    "    # can't use\n",
    "\n",
    "text = 'STyler Jenson'\n",
    "\n",
    "del text[0]\n",
    "# as you see, you will get an error\n",
    "\n",
    "# same concept goes for 'insert' & 'append'"
   ]
  },
  {
   "cell_type": "code",
   "execution_count": 25,
   "id": "c2ae9526",
   "metadata": {},
   "outputs": [
    {
     "data": {
      "text/plain": [
       "'J'"
      ]
     },
     "execution_count": 25,
     "metadata": {},
     "output_type": "execute_result"
    }
   ],
   "source": [
    "# min() function and strings\n",
    "    # will take the LOWEST code point from the character\n",
    "\n",
    "min('TylerJenson')"
   ]
  },
  {
   "cell_type": "code",
   "execution_count": 26,
   "id": "c2e6c25e",
   "metadata": {},
   "outputs": [
    {
     "data": {
      "text/plain": [
       "' '"
      ]
     },
     "execution_count": 26,
     "metadata": {},
     "output_type": "execute_result"
    }
   ],
   "source": [
    "# same example but with a 'space'\n",
    "min('Tyler Jenson')"
   ]
  },
  {
   "cell_type": "code",
   "execution_count": 27,
   "id": "aa0a34db",
   "metadata": {},
   "outputs": [
    {
     "data": {
      "text/plain": [
       "'y'"
      ]
     },
     "execution_count": 27,
     "metadata": {},
     "output_type": "execute_result"
    }
   ],
   "source": [
    "# max() function and strings\n",
    "    # opposite of min(), will find the character with the HIGHEST code point\n",
    "    \n",
    "max('TylerJenson')"
   ]
  },
  {
   "cell_type": "code",
   "execution_count": null,
   "id": "51c725ae",
   "metadata": {},
   "outputs": [],
   "source": []
  }
 ],
 "metadata": {
  "kernelspec": {
   "display_name": "Python 3 (ipykernel)",
   "language": "python",
   "name": "python3"
  },
  "language_info": {
   "codemirror_mode": {
    "name": "ipython",
    "version": 3
   },
   "file_extension": ".py",
   "mimetype": "text/x-python",
   "name": "python",
   "nbconvert_exporter": "python",
   "pygments_lexer": "ipython3",
   "version": "3.10.9"
  }
 },
 "nbformat": 4,
 "nbformat_minor": 5
}
