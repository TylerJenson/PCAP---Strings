{
 "cells": [
  {
   "cell_type": "code",
   "execution_count": 39,
   "id": "24d7bd47",
   "metadata": {},
   "outputs": [
    {
     "name": "stdout",
     "output_type": "stream",
     "text": [
      "97\n"
     ]
    }
   ],
   "source": [
    "# (1)\n",
    "# what is a code point\n",
    "\n",
    "# a number that represents a character\n",
    "\n",
    "# for example\n",
    "print(ord('a')) # 97 is 'a' code point"
   ]
  },
  {
   "cell_type": "code",
   "execution_count": 40,
   "id": "255d37d6",
   "metadata": {},
   "outputs": [
    {
     "name": "stdout",
     "output_type": "stream",
     "text": [
      "True\n",
      "106\n",
      "74\n"
     ]
    }
   ],
   "source": [
    "# (2)\n",
    "# what will be the output of the following program?\n",
    "\n",
    "print('john' > 'John')\n",
    "\n",
    "# reasoning --> when using > or < operators withs strings, Python goes index by index\n",
    "    # once a difference is recognized, Python compares the code point of those two characters\n",
    "    \n",
    "print(ord('j'))\n",
    "print(ord('J'))\n",
    "\n",
    "    # 'j' code point is higher than 'J'"
   ]
  },
  {
   "cell_type": "code",
   "execution_count": 19,
   "id": "e85ba8c4",
   "metadata": {},
   "outputs": [
    {
     "data": {
      "text/plain": [
       "'johnmark'"
      ]
     },
     "execution_count": 19,
     "metadata": {},
     "output_type": "execute_result"
    }
   ],
   "source": [
    "# (3)\n",
    "# Which of the following is a correct way to perform string concatenation?\n",
    "\n",
    "'john' + 'mark'"
   ]
  },
  {
   "cell_type": "code",
   "execution_count": 23,
   "id": "8ae56820",
   "metadata": {},
   "outputs": [
    {
     "name": "stdout",
     "output_type": "stream",
     "text": [
      "3\n"
     ]
    }
   ],
   "source": [
    "# (4)\n",
    "# what will be the output of the following code?\n",
    "\n",
    "print(ord('d') - ord('a'))\n",
    "\n",
    "# ord('d') --> 100 , ord('a') --> 97"
   ]
  },
  {
   "cell_type": "code",
   "execution_count": 5,
   "id": "e1f211e8",
   "metadata": {},
   "outputs": [],
   "source": [
    "# (5)\n",
    "# what is ASCII?\n",
    "\n",
    "# a character encoding standard"
   ]
  },
  {
   "cell_type": "code",
   "execution_count": 24,
   "id": "eeaf94a9",
   "metadata": {},
   "outputs": [
    {
     "name": "stdout",
     "output_type": "stream",
     "text": [
      "1\n"
     ]
    }
   ],
   "source": [
    "# (6)\n",
    "# What will be the output of the following code?\n",
    "\n",
    "print(len('\\'\\\\') - len('\\n'))\n",
    "\n",
    "# len('\\'\\\\') --> 2 , len('\\n') --> 1 \n",
    "\n",
    "# reasoning --> '\\' is an escape character"
   ]
  },
  {
   "cell_type": "code",
   "execution_count": 25,
   "id": "a875987b",
   "metadata": {},
   "outputs": [
    {
     "name": "stdout",
     "output_type": "stream",
     "text": [
      "a\n"
     ]
    }
   ],
   "source": [
    "# (7)\n",
    "# What will be the output of the following code?\n",
    "\n",
    "print(chr(ord('a')))\n",
    "\n",
    "# ord() --> finds the numerical value\n",
    "# chr() --> finds the character"
   ]
  },
  {
   "cell_type": "code",
   "execution_count": 26,
   "id": "5c2ffa01",
   "metadata": {},
   "outputs": [
    {
     "ename": "ValueError",
     "evalue": "could not convert string to float: '1,3'",
     "output_type": "error",
     "traceback": [
      "\u001b[1;31m---------------------------------------------------------------------------\u001b[0m",
      "\u001b[1;31mValueError\u001b[0m                                Traceback (most recent call last)",
      "Cell \u001b[1;32mIn[26], line 4\u001b[0m\n\u001b[0;32m      1\u001b[0m \u001b[38;5;66;03m# (8)\u001b[39;00m\n\u001b[0;32m      2\u001b[0m \u001b[38;5;66;03m# what will be the output of the following code?\u001b[39;00m\n\u001b[1;32m----> 4\u001b[0m \u001b[38;5;28mprint\u001b[39m(\u001b[38;5;28;43mfloat\u001b[39;49m\u001b[43m(\u001b[49m\u001b[38;5;124;43m'\u001b[39;49m\u001b[38;5;124;43m1,3\u001b[39;49m\u001b[38;5;124;43m'\u001b[39;49m\u001b[43m)\u001b[49m)\n",
      "\u001b[1;31mValueError\u001b[0m: could not convert string to float: '1,3'"
     ]
    }
   ],
   "source": [
    "# (8)\n",
    "# what will be the output of the following code?\n",
    "\n",
    "print(float('1,3'))\n",
    "\n",
    "# python will raise an error\n",
    "# can't convert a string to a float"
   ]
  },
  {
   "cell_type": "code",
   "execution_count": 29,
   "id": "aad976ab",
   "metadata": {},
   "outputs": [
    {
     "name": "stdout",
     "output_type": "stream",
     "text": [
      "a\n",
      "w\n",
      "97\n",
      "119\n"
     ]
    }
   ],
   "source": [
    "# (9)\n",
    "# what will be the output of the following program?\n",
    "\n",
    "# takes the value of the code point of each character in the string\n",
    "print(min('watashiwaadoriandesu'))\n",
    "print(max('watashiwaadoriandesu'))\n",
    "\n",
    "print(ord('a'))\n",
    "print(ord('w'))\n",
    "\n",
    "# min() with strings finds the lowest code point, max() finds the highest\n"
   ]
  },
  {
   "cell_type": "code",
   "execution_count": 10,
   "id": "e4e98291",
   "metadata": {},
   "outputs": [],
   "source": [
    "# (10)\n",
    "# Which of the following difference between the find() and index() is correct?\n",
    "\n",
    "# index() raises an error when the element is not found;\n",
    "# find() returns -1 if element is not found"
   ]
  },
  {
   "cell_type": "code",
   "execution_count": 30,
   "id": "391011c7",
   "metadata": {},
   "outputs": [
    {
     "name": "stdout",
     "output_type": "stream",
     "text": [
      "0\n"
     ]
    }
   ],
   "source": [
    "# (11)\n",
    "# What will be the output after running the following code?\n",
    "\n",
    "print('work work work'.rfind('work', 0, 5))"
   ]
  },
  {
   "cell_type": "code",
   "execution_count": 34,
   "id": "ca7e839b",
   "metadata": {},
   "outputs": [
    {
     "name": "stdout",
     "output_type": "stream",
     "text": [
      "['Adam', 'Barbara', 'Donna', 'Kate']\n"
     ]
    }
   ],
   "source": [
    "# (12)\n",
    "# Which piece of code will correctly sort all the elements in the original list, \n",
    "# i.e. WITHOUT CREATING A COPY of the original list?\n",
    "\n",
    "names = ['Adam','Kate','Barbara','Donna']\n",
    "\n",
    "names.sort()\n",
    "print(names)\n",
    "\n",
    "# sort() method sorts the original list, sorted() creates a copy of the original"
   ]
  },
  {
   "cell_type": "code",
   "execution_count": 41,
   "id": "f82e31b8",
   "metadata": {},
   "outputs": [
    {
     "name": "stdout",
     "output_type": "stream",
     "text": [
      "False\n",
      "80\n",
      "87\n"
     ]
    }
   ],
   "source": [
    "# (13)\n",
    "# What will be the output of the following code?\n",
    "\n",
    "print('Python' > 'W')\n",
    "\n",
    "print(ord('P'))\n",
    "print(ord('W'))\n",
    "\n",
    "# The output will be 'False'\n",
    "\n",
    "# reasoning --> when using > or < operators withs strings, Python goes index by index\n",
    "    # once a difference is recognized, Python compares the code point of those two characters"
   ]
  },
  {
   "cell_type": "code",
   "execution_count": 36,
   "id": "8682cde9",
   "metadata": {},
   "outputs": [
    {
     "name": "stdout",
     "output_type": "stream",
     "text": [
      "False\n"
     ]
    },
    {
     "ename": "TypeError",
     "evalue": "'>' not supported between instances of 'str' and 'int'",
     "output_type": "error",
     "traceback": [
      "\u001b[1;31m---------------------------------------------------------------------------\u001b[0m",
      "\u001b[1;31mTypeError\u001b[0m                                 Traceback (most recent call last)",
      "Cell \u001b[1;32mIn[36], line 5\u001b[0m\n\u001b[0;32m      1\u001b[0m \u001b[38;5;66;03m# (14)\u001b[39;00m\n\u001b[0;32m      2\u001b[0m \u001b[38;5;66;03m# What will be the output after running these two lines of code?\u001b[39;00m\n\u001b[0;32m      4\u001b[0m \u001b[38;5;28mprint\u001b[39m(\u001b[38;5;124m'\u001b[39m\u001b[38;5;124m30\u001b[39m\u001b[38;5;124m'\u001b[39m \u001b[38;5;241m>\u001b[39m \u001b[38;5;124m'\u001b[39m\u001b[38;5;124m7\u001b[39m\u001b[38;5;124m'\u001b[39m)\n\u001b[1;32m----> 5\u001b[0m \u001b[38;5;28mprint\u001b[39m(\u001b[38;5;124;43m'\u001b[39;49m\u001b[38;5;124;43m30\u001b[39;49m\u001b[38;5;124;43m'\u001b[39;49m\u001b[43m \u001b[49m\u001b[38;5;241;43m>\u001b[39;49m\u001b[43m \u001b[49m\u001b[38;5;241;43m7\u001b[39;49m)\n",
      "\u001b[1;31mTypeError\u001b[0m: '>' not supported between instances of 'str' and 'int'"
     ]
    }
   ],
   "source": [
    "# (14)\n",
    "# What will be the output after running these two lines of code?\n",
    "\n",
    "print('30' > '7')\n",
    "print('30' > 7)\n",
    "\n",
    "\n",
    "# First, Python will show 'False'.\n",
    "    # 3 is less than 7; remember the rule with strings when using > or < operators\n",
    "# Then, Python will raise an error."
   ]
  },
  {
   "cell_type": "code",
   "execution_count": 37,
   "id": "15a0b383",
   "metadata": {},
   "outputs": [
    {
     "name": "stdout",
     "output_type": "stream",
     "text": [
      "True\n",
      "True\n",
      "False\n",
      "False\n",
      "False\n"
     ]
    }
   ],
   "source": [
    "# (15)\n",
    "\n",
    "# After running the following code, how many times will Python print True to the output?\n",
    "\n",
    "print('John'.isalnum())\n",
    "print('John1990'.isalnum())\n",
    "print('John 1990'.isalnum())\n",
    "print('John-1990'.isalnum())\n",
    "print('John_1990'.isalnum())\n",
    "\n",
    "# would be True for a string if it's just alphabet characters\n",
    "# would be True for a string with alphabet characters and numbers, but no whitespace"
   ]
  },
  {
   "cell_type": "code",
   "execution_count": null,
   "id": "8def588c",
   "metadata": {},
   "outputs": [],
   "source": []
  }
 ],
 "metadata": {
  "kernelspec": {
   "display_name": "Python 3 (ipykernel)",
   "language": "python",
   "name": "python3"
  },
  "language_info": {
   "codemirror_mode": {
    "name": "ipython",
    "version": 3
   },
   "file_extension": ".py",
   "mimetype": "text/x-python",
   "name": "python",
   "nbconvert_exporter": "python",
   "pygments_lexer": "ipython3",
   "version": "3.10.9"
  }
 },
 "nbformat": 4,
 "nbformat_minor": 5
}
