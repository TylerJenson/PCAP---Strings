{
 "cells": [
  {
   "cell_type": "code",
   "execution_count": 1,
   "id": "59c843c9",
   "metadata": {},
   "outputs": [],
   "source": [
    "# strings are transferred to numbers (character encoding), and then to binary\n",
    "    # character encoding: characters being represented as numbers\n",
    "\n",
    "# example; sample1 = 'single quotes' --> the 's' is transferred to number for such as 115, 115 is then encoded to binary\n",
    "    # such as, 01110011"
   ]
  },
  {
   "cell_type": "code",
   "execution_count": 2,
   "id": "8f5232be",
   "metadata": {},
   "outputs": [],
   "source": [
    "# ASCII (American Standard Code for Information Interchange), one of the most common encodings in the world\n",
    "\n",
    "# 256 different characters; the first 128 characters are the most significant ones"
   ]
  },
  {
   "cell_type": "code",
   "execution_count": 3,
   "id": "95cbda92",
   "metadata": {},
   "outputs": [],
   "source": [
    "# ASCII continued\n",
    "\n",
    "# example, each character has its own number; 'a' --> 97, 'A' --> 65, 'space' --> 32, '+' --> 43"
   ]
  },
  {
   "cell_type": "code",
   "execution_count": 4,
   "id": "836a2685",
   "metadata": {},
   "outputs": [],
   "source": [
    "# ASCII continued\n",
    "\n",
    "# 1 character translates to 8 bits, or 1 byte; 'a' for example is 1 byte"
   ]
  },
  {
   "cell_type": "code",
   "execution_count": 1,
   "id": "92be5c2b",
   "metadata": {},
   "outputs": [],
   "source": [
    "# ASCII & other languages\n",
    "\n",
    "# the first 128 is designated for english, the remaining 128 is referred to as the 'code page'\n",
    "\n",
    "    # stores specific national characters\n",
    "    # you will find different code pages for languages from Western Europe, Eastern Europe, etc\n",
    "        # this means, the same number (128 <--> 256) could represent a different symbol, depending on the code page"
   ]
  },
  {
   "cell_type": "code",
   "execution_count": 2,
   "id": "9232ed3f",
   "metadata": {},
   "outputs": [],
   "source": [
    "# internationalisation (i18n)\n",
    "    # concept of finding a solution to the problem with multiple alphabets for multiple languages"
   ]
  },
  {
   "cell_type": "code",
   "execution_count": 3,
   "id": "70281217",
   "metadata": {},
   "outputs": [],
   "source": [
    "# Unicode\n",
    "    # better more universal encoding than ASCII\n",
    "    # doesn't use code pages\n",
    "    # more than 1 million characters\n",
    "    # first 128 characters identical to ASCII\n",
    "        # the next 128 characters are identical to the code pages identical to western languages\n",
    "    # 17 different planes\n",
    "        # plane --> group of similar characters"
   ]
  },
  {
   "cell_type": "code",
   "execution_count": 4,
   "id": "3931e7a8",
   "metadata": {},
   "outputs": [],
   "source": [
    "# Unicode, continued\n",
    "    # more than one technique to actually implement Unicode in specific computers\n",
    "    \n",
    "# UCS-4; one of the most widely used standards\n",
    "    # one of the possible Unicode implementations\n",
    "    # 32 bit (4 bytes) per character\n",
    "        #UCS-4 takes up a lot of space"
   ]
  },
  {
   "cell_type": "code",
   "execution_count": null,
   "id": "87a7bb51",
   "metadata": {},
   "outputs": [],
   "source": [
    "# Unicode, continued\n",
    "\n",
    "# UTF-8\n",
    "    # fully supported by python\n",
    "    # another standard (example; UCS-4 is another Unicode standard)\n",
    "    # compatible with ASCII\n",
    "    # uses as many bits as needed\n",
    "        # from 8 - 32 bits\n",
    "        # each ASCII character, 8 bits\n",
    "        # most non-latin character (Polish, Spanish), 16 bits\n",
    "        # chinese, japanese and korean characters, 24 bits\n",
    "    # you can use all UTF-8 characters during input and output\n",
    "        # example; if you use the input function for someones name, and they respond in Japanese, Python can handle that"
   ]
  }
 ],
 "metadata": {
  "kernelspec": {
   "display_name": "Python 3 (ipykernel)",
   "language": "python",
   "name": "python3"
  },
  "language_info": {
   "codemirror_mode": {
    "name": "ipython",
    "version": 3
   },
   "file_extension": ".py",
   "mimetype": "text/x-python",
   "name": "python",
   "nbconvert_exporter": "python",
   "pygments_lexer": "ipython3",
   "version": "3.10.9"
  }
 },
 "nbformat": 4,
 "nbformat_minor": 5
}
